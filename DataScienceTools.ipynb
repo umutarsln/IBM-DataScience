{
  "metadata": {
    "kernelspec": {
      "name": "python",
      "display_name": "Python (Pyodide)",
      "language": "python"
    },
    "language_info": {
      "codemirror_mode": {
        "name": "python",
        "version": 3
      },
      "file_extension": ".py",
      "mimetype": "text/x-python",
      "name": "python",
      "nbconvert_exporter": "python",
      "pygments_lexer": "ipython3",
      "version": "3.8"
    }
  },
  "nbformat_minor": 4,
  "nbformat": 4,
  "cells": [
    {
      "cell_type": "markdown",
      "source": "# Data Science Tools",
      "metadata": {}
    },
    {
      "cell_type": "markdown",
      "source": "###### In this notebook, Data Science Tools and Ecosystem are summarized.",
      "metadata": {}
    },
    {
      "cell_type": "markdown",
      "source": "#### Data Science Languages:\n1. Python\n2. R\n3. C++\n4. Java\n5. SQL\n6. JavaScript\n7. Scala\n8. Julia",
      "metadata": {}
    },
    {
      "cell_type": "markdown",
      "source": "#### Commonly Used Data Science Libraries:\n- Numpy\n- Pandas\n- Matplotlib\n- Seaborn\n- Scipy\n- Sckit-learn\n- Tensorflow\n- Keras\n- Pytorch",
      "metadata": {}
    },
    {
      "cell_type": "markdown",
      "source": "|Data Science Tools|\n|------------------|\n|Apache Spark|\n|Apache Hadoop|\n|BigML|\n|Jupyter Notebook|\n|Tableau|\n|RStudio|\n|Python|\n",
      "metadata": {}
    },
    {
      "cell_type": "code",
      "source": "# Arithmetic Operations\nprint(5-2)\nprint(4+6)\nprint(3*8)\nprint(25/4)",
      "metadata": {
        "trusted": true
      },
      "outputs": [
        {
          "name": "stdout",
          "text": "3\n10\n24\n6.25\n",
          "output_type": "stream"
        }
      ],
      "execution_count": 17
    },
    {
      "cell_type": "code",
      "source": "(3+9)*7",
      "metadata": {
        "trusted": true
      },
      "outputs": [
        {
          "execution_count": 11,
          "output_type": "execute_result",
          "data": {
            "text/plain": "84"
          },
          "metadata": {}
        }
      ],
      "execution_count": 11
    },
    {
      "cell_type": "code",
      "source": "minutes = 78",
      "metadata": {
        "trusted": true
      },
      "outputs": [],
      "execution_count": 15
    },
    {
      "cell_type": "code",
      "source": "hour = minutes/60\nhour",
      "metadata": {
        "trusted": true
      },
      "outputs": [
        {
          "execution_count": 16,
          "output_type": "execute_result",
          "data": {
            "text/plain": "1.3"
          },
          "metadata": {}
        }
      ],
      "execution_count": 16
    },
    {
      "cell_type": "markdown",
      "source": "### Objectives:\n\n- List popular languages for Data Science.\n- Identify commonly used libraries in Data Science.\n- Recognize development environment tools used in Data Science.\n- Understand the basic arithmetic operations in Python.\n- Explore the process of evaluating and converting units in Python.",
      "metadata": {}
    },
    {
      "cell_type": "markdown",
      "source": "### Author\n\n##### Umut Arslan",
      "metadata": {}
    },
    {
      "cell_type": "code",
      "source": "",
      "metadata": {
        "trusted": true
      },
      "outputs": [],
      "execution_count": null
    }
  ]
}